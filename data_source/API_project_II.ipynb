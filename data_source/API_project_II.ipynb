{
  "cells": [
    {
      "cell_type": "code",
      "execution_count": 3,
      "metadata": {
        "colab": {
          "base_uri": "https://localhost:8080/"
        },
        "id": "zWeWpLOCCxGe",
        "outputId": "f93d31ca-110d-4c63-e572-67a4d818e034"
      },
      "outputs": [
        {
          "output_type": "stream",
          "name": "stdout",
          "text": [
            "Requirement already satisfied: google-cloud-automl in /usr/local/lib/python3.7/dist-packages (2.7.2)\n",
            "Requirement already satisfied: proto-plus>=1.15.0 in /usr/local/lib/python3.7/dist-packages (from google-cloud-automl) (1.20.3)\n",
            "Requirement already satisfied: google-api-core[grpc]!=2.0.*,!=2.1.*,!=2.2.*,!=2.3.0,<3.0.0dev,>=1.31.5 in /usr/local/lib/python3.7/dist-packages (from google-cloud-automl) (1.31.5)\n",
            "Requirement already satisfied: pytz in /usr/local/lib/python3.7/dist-packages (from google-api-core[grpc]!=2.0.*,!=2.1.*,!=2.2.*,!=2.3.0,<3.0.0dev,>=1.31.5->google-cloud-automl) (2022.1)\n",
            "Requirement already satisfied: protobuf>=3.12.0 in /usr/local/lib/python3.7/dist-packages (from google-api-core[grpc]!=2.0.*,!=2.1.*,!=2.2.*,!=2.3.0,<3.0.0dev,>=1.31.5->google-cloud-automl) (3.20.1)\n",
            "Requirement already satisfied: googleapis-common-protos<2.0dev,>=1.6.0 in /usr/local/lib/python3.7/dist-packages (from google-api-core[grpc]!=2.0.*,!=2.1.*,!=2.2.*,!=2.3.0,<3.0.0dev,>=1.31.5->google-cloud-automl) (1.56.1)\n",
            "Requirement already satisfied: google-auth<2.0dev,>=1.25.0 in /usr/local/lib/python3.7/dist-packages (from google-api-core[grpc]!=2.0.*,!=2.1.*,!=2.2.*,!=2.3.0,<3.0.0dev,>=1.31.5->google-cloud-automl) (1.35.0)\n",
            "Requirement already satisfied: six>=1.13.0 in /usr/local/lib/python3.7/dist-packages (from google-api-core[grpc]!=2.0.*,!=2.1.*,!=2.2.*,!=2.3.0,<3.0.0dev,>=1.31.5->google-cloud-automl) (1.15.0)\n",
            "Requirement already satisfied: setuptools>=40.3.0 in /usr/local/lib/python3.7/dist-packages (from google-api-core[grpc]!=2.0.*,!=2.1.*,!=2.2.*,!=2.3.0,<3.0.0dev,>=1.31.5->google-cloud-automl) (57.4.0)\n",
            "Requirement already satisfied: requests<3.0.0dev,>=2.18.0 in /usr/local/lib/python3.7/dist-packages (from google-api-core[grpc]!=2.0.*,!=2.1.*,!=2.2.*,!=2.3.0,<3.0.0dev,>=1.31.5->google-cloud-automl) (2.23.0)\n",
            "Requirement already satisfied: packaging>=14.3 in /usr/local/lib/python3.7/dist-packages (from google-api-core[grpc]!=2.0.*,!=2.1.*,!=2.2.*,!=2.3.0,<3.0.0dev,>=1.31.5->google-cloud-automl) (21.3)\n",
            "Requirement already satisfied: grpcio<2.0dev,>=1.29.0 in /usr/local/lib/python3.7/dist-packages (from google-api-core[grpc]!=2.0.*,!=2.1.*,!=2.2.*,!=2.3.0,<3.0.0dev,>=1.31.5->google-cloud-automl) (1.46.1)\n",
            "Requirement already satisfied: cachetools<5.0,>=2.0.0 in /usr/local/lib/python3.7/dist-packages (from google-auth<2.0dev,>=1.25.0->google-api-core[grpc]!=2.0.*,!=2.1.*,!=2.2.*,!=2.3.0,<3.0.0dev,>=1.31.5->google-cloud-automl) (4.2.4)\n",
            "Requirement already satisfied: rsa<5,>=3.1.4 in /usr/local/lib/python3.7/dist-packages (from google-auth<2.0dev,>=1.25.0->google-api-core[grpc]!=2.0.*,!=2.1.*,!=2.2.*,!=2.3.0,<3.0.0dev,>=1.31.5->google-cloud-automl) (4.8)\n",
            "Requirement already satisfied: pyasn1-modules>=0.2.1 in /usr/local/lib/python3.7/dist-packages (from google-auth<2.0dev,>=1.25.0->google-api-core[grpc]!=2.0.*,!=2.1.*,!=2.2.*,!=2.3.0,<3.0.0dev,>=1.31.5->google-cloud-automl) (0.2.8)\n",
            "Requirement already satisfied: pyparsing!=3.0.5,>=2.0.2 in /usr/local/lib/python3.7/dist-packages (from packaging>=14.3->google-api-core[grpc]!=2.0.*,!=2.1.*,!=2.2.*,!=2.3.0,<3.0.0dev,>=1.31.5->google-cloud-automl) (3.0.9)\n",
            "Requirement already satisfied: pyasn1<0.5.0,>=0.4.6 in /usr/local/lib/python3.7/dist-packages (from pyasn1-modules>=0.2.1->google-auth<2.0dev,>=1.25.0->google-api-core[grpc]!=2.0.*,!=2.1.*,!=2.2.*,!=2.3.0,<3.0.0dev,>=1.31.5->google-cloud-automl) (0.4.8)\n",
            "Requirement already satisfied: urllib3!=1.25.0,!=1.25.1,<1.26,>=1.21.1 in /usr/local/lib/python3.7/dist-packages (from requests<3.0.0dev,>=2.18.0->google-api-core[grpc]!=2.0.*,!=2.1.*,!=2.2.*,!=2.3.0,<3.0.0dev,>=1.31.5->google-cloud-automl) (1.24.3)\n",
            "Requirement already satisfied: idna<3,>=2.5 in /usr/local/lib/python3.7/dist-packages (from requests<3.0.0dev,>=2.18.0->google-api-core[grpc]!=2.0.*,!=2.1.*,!=2.2.*,!=2.3.0,<3.0.0dev,>=1.31.5->google-cloud-automl) (2.10)\n",
            "Requirement already satisfied: certifi>=2017.4.17 in /usr/local/lib/python3.7/dist-packages (from requests<3.0.0dev,>=2.18.0->google-api-core[grpc]!=2.0.*,!=2.1.*,!=2.2.*,!=2.3.0,<3.0.0dev,>=1.31.5->google-cloud-automl) (2021.10.8)\n",
            "Requirement already satisfied: chardet<4,>=3.0.2 in /usr/local/lib/python3.7/dist-packages (from requests<3.0.0dev,>=2.18.0->google-api-core[grpc]!=2.0.*,!=2.1.*,!=2.2.*,!=2.3.0,<3.0.0dev,>=1.31.5->google-cloud-automl) (3.0.4)\n",
            "Mounted at /content/gdrive\n",
            "gdrive/My Drive/Colab Notebooks/Big-Scale Analytics/project 2/elevated-axon-344416-a445282b6a91.json\n"
          ]
        }
      ],
      "source": [
        "#API AUTOML\n",
        "\n",
        "from google.colab import files\n",
        "from google.colab import drive\n",
        "import os\n",
        "import pandas as pd\n",
        "!pip install google-cloud-automl\n",
        "\n",
        "from google.cloud import automl\n",
        "\n",
        "drive.mount('/content/gdrive', force_remount= True)\n",
        "path = \"gdrive/My Drive/Colab Notebooks/Big-Scale Analytics/project 2/elevated-axon-344416-a445282b6a91.json\"\n",
        "creds = pd.read_json(path, orient='index')\n",
        "\n",
        "\n",
        "os.environ[\"GOOGLE_APPLICATION_CREDENTIALS\"] = path\n",
        "print(os.environ[\"GOOGLE_APPLICATION_CREDENTIALS\"])\n",
        "\n",
        "# TODO(developer): set the following variables\n",
        "project_id = 'elevated-axon-344416'\n",
        "model_id = 'TCN4674878250210557952'\n",
        "content = \"Nique le projet\"\n",
        "\n",
        "prediction_client = automl.PredictionServiceClient()\n",
        "\n",
        "# Get the full path of the model.\n",
        "model_full_id = automl.AutoMlClient.model_path(project_id, \"us-central1\", model_id)\n",
        "\n",
        "# Supported mime_types: 'text/plain', 'text/html'\n",
        "# https://cloud.google.com/automl/docs/reference/rpc/google.cloud.automl.v1#textsnippet\n",
        "text_snippet = automl.TextSnippet(content=content, mime_type=\"text/plain\")\n",
        "payload = automl.ExamplePayload(text_snippet=text_snippet)\n",
        "\n",
        "response = prediction_client.predict(name=model_full_id, payload=payload)"
      ]
    },
    {
      "cell_type": "code",
      "execution_count": 4,
      "metadata": {
        "colab": {
          "base_uri": "https://localhost:8080/"
        },
        "id": "rG-rtSUNJPSV",
        "outputId": "5cc03c30-472b-4ca2-87f9-da3684ceb4ab"
      },
      "outputs": [
        {
          "output_type": "execute_result",
          "data": {
            "text/plain": [
              "payload {\n",
              "  annotation_spec_id: \"8104766839906631680\"\n",
              "  classification {\n",
              "    score: 0.6827919483184814\n",
              "  }\n",
              "  display_name: \"A1\"\n",
              "}\n",
              "payload {\n",
              "  annotation_spec_id: \"5222463078389514240\"\n",
              "  classification {\n",
              "    score: 0.1270778477191925\n",
              "  }\n",
              "  display_name: \"A2\"\n",
              "}\n",
              "payload {\n",
              "  annotation_spec_id: \"1763698564568973312\"\n",
              "  classification {\n",
              "    score: 0.11296220123767853\n",
              "  }\n",
              "  display_name: \"B1\"\n",
              "}\n",
              "payload {\n",
              "  annotation_spec_id: \"610777059962126336\"\n",
              "  classification {\n",
              "    score: 0.05161638930439949\n",
              "  }\n",
              "  display_name: \"B2\"\n",
              "}\n",
              "payload {\n",
              "  annotation_spec_id: \"2916620069175820288\"\n",
              "  classification {\n",
              "    score: 0.018293652683496475\n",
              "  }\n",
              "  display_name: \"C1\"\n",
              "}\n",
              "payload {\n",
              "  annotation_spec_id: \"7528306087603208192\"\n",
              "  classification {\n",
              "    score: 0.007257912773638964\n",
              "  }\n",
              "  display_name: \"C2\"\n",
              "}"
            ]
          },
          "metadata": {},
          "execution_count": 4
        }
      ],
      "source": [
        "response"
      ]
    },
    {
      "cell_type": "code",
      "source": [
        "!pip install google-cloud-aiplatform"
      ],
      "metadata": {
        "colab": {
          "base_uri": "https://localhost:8080/",
          "height": 1000
        },
        "id": "m_k3ntwXSXj3",
        "outputId": "a91b718d-e490-4f07-e425-4a6f2a191514"
      },
      "execution_count": 6,
      "outputs": [
        {
          "output_type": "stream",
          "name": "stdout",
          "text": [
            "Collecting google-cloud-aiplatform\n",
            "  Downloading google_cloud_aiplatform-1.13.0-py2.py3-none-any.whl (1.8 MB)\n",
            "\u001b[?25l\r\u001b[K     |▏                               | 10 kB 21.9 MB/s eta 0:00:01\r\u001b[K     |▍                               | 20 kB 16.0 MB/s eta 0:00:01\r\u001b[K     |▌                               | 30 kB 10.6 MB/s eta 0:00:01\r\u001b[K     |▊                               | 40 kB 9.0 MB/s eta 0:00:01\r\u001b[K     |█                               | 51 kB 6.8 MB/s eta 0:00:01\r\u001b[K     |█                               | 61 kB 8.0 MB/s eta 0:00:01\r\u001b[K     |█▎                              | 71 kB 7.9 MB/s eta 0:00:01\r\u001b[K     |█▍                              | 81 kB 7.1 MB/s eta 0:00:01\r\u001b[K     |█▋                              | 92 kB 7.9 MB/s eta 0:00:01\r\u001b[K     |█▉                              | 102 kB 7.6 MB/s eta 0:00:01\r\u001b[K     |██                              | 112 kB 7.6 MB/s eta 0:00:01\r\u001b[K     |██▏                             | 122 kB 7.6 MB/s eta 0:00:01\r\u001b[K     |██▎                             | 133 kB 7.6 MB/s eta 0:00:01\r\u001b[K     |██▌                             | 143 kB 7.6 MB/s eta 0:00:01\r\u001b[K     |██▊                             | 153 kB 7.6 MB/s eta 0:00:01\r\u001b[K     |██▉                             | 163 kB 7.6 MB/s eta 0:00:01\r\u001b[K     |███                             | 174 kB 7.6 MB/s eta 0:00:01\r\u001b[K     |███▏                            | 184 kB 7.6 MB/s eta 0:00:01\r\u001b[K     |███▍                            | 194 kB 7.6 MB/s eta 0:00:01\r\u001b[K     |███▋                            | 204 kB 7.6 MB/s eta 0:00:01\r\u001b[K     |███▊                            | 215 kB 7.6 MB/s eta 0:00:01\r\u001b[K     |████                            | 225 kB 7.6 MB/s eta 0:00:01\r\u001b[K     |████                            | 235 kB 7.6 MB/s eta 0:00:01\r\u001b[K     |████▎                           | 245 kB 7.6 MB/s eta 0:00:01\r\u001b[K     |████▌                           | 256 kB 7.6 MB/s eta 0:00:01\r\u001b[K     |████▋                           | 266 kB 7.6 MB/s eta 0:00:01\r\u001b[K     |████▉                           | 276 kB 7.6 MB/s eta 0:00:01\r\u001b[K     |█████                           | 286 kB 7.6 MB/s eta 0:00:01\r\u001b[K     |█████▏                          | 296 kB 7.6 MB/s eta 0:00:01\r\u001b[K     |█████▍                          | 307 kB 7.6 MB/s eta 0:00:01\r\u001b[K     |█████▌                          | 317 kB 7.6 MB/s eta 0:00:01\r\u001b[K     |█████▊                          | 327 kB 7.6 MB/s eta 0:00:01\r\u001b[K     |█████▉                          | 337 kB 7.6 MB/s eta 0:00:01\r\u001b[K     |██████                          | 348 kB 7.6 MB/s eta 0:00:01\r\u001b[K     |██████▎                         | 358 kB 7.6 MB/s eta 0:00:01\r\u001b[K     |██████▍                         | 368 kB 7.6 MB/s eta 0:00:01\r\u001b[K     |██████▋                         | 378 kB 7.6 MB/s eta 0:00:01\r\u001b[K     |██████▊                         | 389 kB 7.6 MB/s eta 0:00:01\r\u001b[K     |███████                         | 399 kB 7.6 MB/s eta 0:00:01\r\u001b[K     |███████▏                        | 409 kB 7.6 MB/s eta 0:00:01\r\u001b[K     |███████▎                        | 419 kB 7.6 MB/s eta 0:00:01\r\u001b[K     |███████▌                        | 430 kB 7.6 MB/s eta 0:00:01\r\u001b[K     |███████▊                        | 440 kB 7.6 MB/s eta 0:00:01\r\u001b[K     |███████▉                        | 450 kB 7.6 MB/s eta 0:00:01\r\u001b[K     |████████                        | 460 kB 7.6 MB/s eta 0:00:01\r\u001b[K     |████████▏                       | 471 kB 7.6 MB/s eta 0:00:01\r\u001b[K     |████████▍                       | 481 kB 7.6 MB/s eta 0:00:01\r\u001b[K     |████████▋                       | 491 kB 7.6 MB/s eta 0:00:01\r\u001b[K     |████████▊                       | 501 kB 7.6 MB/s eta 0:00:01\r\u001b[K     |█████████                       | 512 kB 7.6 MB/s eta 0:00:01\r\u001b[K     |█████████                       | 522 kB 7.6 MB/s eta 0:00:01\r\u001b[K     |█████████▎                      | 532 kB 7.6 MB/s eta 0:00:01\r\u001b[K     |█████████▌                      | 542 kB 7.6 MB/s eta 0:00:01\r\u001b[K     |█████████▋                      | 552 kB 7.6 MB/s eta 0:00:01\r\u001b[K     |█████████▉                      | 563 kB 7.6 MB/s eta 0:00:01\r\u001b[K     |██████████                      | 573 kB 7.6 MB/s eta 0:00:01\r\u001b[K     |██████████▏                     | 583 kB 7.6 MB/s eta 0:00:01\r\u001b[K     |██████████▍                     | 593 kB 7.6 MB/s eta 0:00:01\r\u001b[K     |██████████▌                     | 604 kB 7.6 MB/s eta 0:00:01\r\u001b[K     |██████████▊                     | 614 kB 7.6 MB/s eta 0:00:01\r\u001b[K     |██████████▉                     | 624 kB 7.6 MB/s eta 0:00:01\r\u001b[K     |███████████                     | 634 kB 7.6 MB/s eta 0:00:01\r\u001b[K     |███████████▎                    | 645 kB 7.6 MB/s eta 0:00:01\r\u001b[K     |███████████▍                    | 655 kB 7.6 MB/s eta 0:00:01\r\u001b[K     |███████████▋                    | 665 kB 7.6 MB/s eta 0:00:01\r\u001b[K     |███████████▊                    | 675 kB 7.6 MB/s eta 0:00:01\r\u001b[K     |████████████                    | 686 kB 7.6 MB/s eta 0:00:01\r\u001b[K     |████████████▏                   | 696 kB 7.6 MB/s eta 0:00:01\r\u001b[K     |████████████▎                   | 706 kB 7.6 MB/s eta 0:00:01\r\u001b[K     |████████████▌                   | 716 kB 7.6 MB/s eta 0:00:01\r\u001b[K     |████████████▋                   | 727 kB 7.6 MB/s eta 0:00:01\r\u001b[K     |████████████▉                   | 737 kB 7.6 MB/s eta 0:00:01\r\u001b[K     |█████████████                   | 747 kB 7.6 MB/s eta 0:00:01\r\u001b[K     |█████████████▏                  | 757 kB 7.6 MB/s eta 0:00:01\r\u001b[K     |█████████████▍                  | 768 kB 7.6 MB/s eta 0:00:01\r\u001b[K     |█████████████▌                  | 778 kB 7.6 MB/s eta 0:00:01\r\u001b[K     |█████████████▊                  | 788 kB 7.6 MB/s eta 0:00:01\r\u001b[K     |██████████████                  | 798 kB 7.6 MB/s eta 0:00:01\r\u001b[K     |██████████████                  | 808 kB 7.6 MB/s eta 0:00:01\r\u001b[K     |██████████████▎                 | 819 kB 7.6 MB/s eta 0:00:01\r\u001b[K     |██████████████▌                 | 829 kB 7.6 MB/s eta 0:00:01\r\u001b[K     |██████████████▋                 | 839 kB 7.6 MB/s eta 0:00:01\r\u001b[K     |██████████████▉                 | 849 kB 7.6 MB/s eta 0:00:01\r\u001b[K     |███████████████                 | 860 kB 7.6 MB/s eta 0:00:01\r\u001b[K     |███████████████▏                | 870 kB 7.6 MB/s eta 0:00:01\r\u001b[K     |███████████████▍                | 880 kB 7.6 MB/s eta 0:00:01\r\u001b[K     |███████████████▌                | 890 kB 7.6 MB/s eta 0:00:01\r\u001b[K     |███████████████▊                | 901 kB 7.6 MB/s eta 0:00:01\r\u001b[K     |███████████████▉                | 911 kB 7.6 MB/s eta 0:00:01\r\u001b[K     |████████████████                | 921 kB 7.6 MB/s eta 0:00:01\r\u001b[K     |████████████████▎               | 931 kB 7.6 MB/s eta 0:00:01\r\u001b[K     |████████████████▍               | 942 kB 7.6 MB/s eta 0:00:01\r\u001b[K     |████████████████▋               | 952 kB 7.6 MB/s eta 0:00:01\r\u001b[K     |████████████████▊               | 962 kB 7.6 MB/s eta 0:00:01\r\u001b[K     |█████████████████               | 972 kB 7.6 MB/s eta 0:00:01\r\u001b[K     |█████████████████▏              | 983 kB 7.6 MB/s eta 0:00:01\r\u001b[K     |█████████████████▎              | 993 kB 7.6 MB/s eta 0:00:01\r\u001b[K     |█████████████████▌              | 1.0 MB 7.6 MB/s eta 0:00:01\r\u001b[K     |█████████████████▋              | 1.0 MB 7.6 MB/s eta 0:00:01\r\u001b[K     |█████████████████▉              | 1.0 MB 7.6 MB/s eta 0:00:01\r\u001b[K     |██████████████████              | 1.0 MB 7.6 MB/s eta 0:00:01\r\u001b[K     |██████████████████▏             | 1.0 MB 7.6 MB/s eta 0:00:01\r\u001b[K     |██████████████████▍             | 1.1 MB 7.6 MB/s eta 0:00:01\r\u001b[K     |██████████████████▌             | 1.1 MB 7.6 MB/s eta 0:00:01\r\u001b[K     |██████████████████▊             | 1.1 MB 7.6 MB/s eta 0:00:01\r\u001b[K     |███████████████████             | 1.1 MB 7.6 MB/s eta 0:00:01\r\u001b[K     |███████████████████             | 1.1 MB 7.6 MB/s eta 0:00:01\r\u001b[K     |███████████████████▎            | 1.1 MB 7.6 MB/s eta 0:00:01\r\u001b[K     |███████████████████▍            | 1.1 MB 7.6 MB/s eta 0:00:01\r\u001b[K     |███████████████████▋            | 1.1 MB 7.6 MB/s eta 0:00:01\r\u001b[K     |███████████████████▉            | 1.1 MB 7.6 MB/s eta 0:00:01\r\u001b[K     |████████████████████            | 1.1 MB 7.6 MB/s eta 0:00:01\r\u001b[K     |████████████████████▏           | 1.2 MB 7.6 MB/s eta 0:00:01\r\u001b[K     |████████████████████▎           | 1.2 MB 7.6 MB/s eta 0:00:01\r\u001b[K     |████████████████████▌           | 1.2 MB 7.6 MB/s eta 0:00:01\r\u001b[K     |████████████████████▊           | 1.2 MB 7.6 MB/s eta 0:00:01\r\u001b[K     |████████████████████▉           | 1.2 MB 7.6 MB/s eta 0:00:01\r\u001b[K     |█████████████████████           | 1.2 MB 7.6 MB/s eta 0:00:01\r\u001b[K     |█████████████████████▏          | 1.2 MB 7.6 MB/s eta 0:00:01\r\u001b[K     |█████████████████████▍          | 1.2 MB 7.6 MB/s eta 0:00:01\r\u001b[K     |█████████████████████▋          | 1.2 MB 7.6 MB/s eta 0:00:01\r\u001b[K     |█████████████████████▊          | 1.2 MB 7.6 MB/s eta 0:00:01\r\u001b[K     |██████████████████████          | 1.3 MB 7.6 MB/s eta 0:00:01\r\u001b[K     |██████████████████████▏         | 1.3 MB 7.6 MB/s eta 0:00:01\r\u001b[K     |██████████████████████▎         | 1.3 MB 7.6 MB/s eta 0:00:01\r\u001b[K     |██████████████████████▌         | 1.3 MB 7.6 MB/s eta 0:00:01\r\u001b[K     |██████████████████████▋         | 1.3 MB 7.6 MB/s eta 0:00:01\r\u001b[K     |██████████████████████▉         | 1.3 MB 7.6 MB/s eta 0:00:01\r\u001b[K     |███████████████████████         | 1.3 MB 7.6 MB/s eta 0:00:01\r\u001b[K     |███████████████████████▏        | 1.3 MB 7.6 MB/s eta 0:00:01\r\u001b[K     |███████████████████████▍        | 1.3 MB 7.6 MB/s eta 0:00:01\r\u001b[K     |███████████████████████▌        | 1.4 MB 7.6 MB/s eta 0:00:01\r\u001b[K     |███████████████████████▊        | 1.4 MB 7.6 MB/s eta 0:00:01\r\u001b[K     |████████████████████████        | 1.4 MB 7.6 MB/s eta 0:00:01\r\u001b[K     |████████████████████████        | 1.4 MB 7.6 MB/s eta 0:00:01\r\u001b[K     |████████████████████████▎       | 1.4 MB 7.6 MB/s eta 0:00:01\r\u001b[K     |████████████████████████▍       | 1.4 MB 7.6 MB/s eta 0:00:01\r\u001b[K     |████████████████████████▋       | 1.4 MB 7.6 MB/s eta 0:00:01\r\u001b[K     |████████████████████████▉       | 1.4 MB 7.6 MB/s eta 0:00:01\r\u001b[K     |█████████████████████████       | 1.4 MB 7.6 MB/s eta 0:00:01\r\u001b[K     |█████████████████████████▏      | 1.4 MB 7.6 MB/s eta 0:00:01\r\u001b[K     |█████████████████████████▎      | 1.5 MB 7.6 MB/s eta 0:00:01\r\u001b[K     |█████████████████████████▌      | 1.5 MB 7.6 MB/s eta 0:00:01\r\u001b[K     |█████████████████████████▊      | 1.5 MB 7.6 MB/s eta 0:00:01\r\u001b[K     |█████████████████████████▉      | 1.5 MB 7.6 MB/s eta 0:00:01\r\u001b[K     |██████████████████████████      | 1.5 MB 7.6 MB/s eta 0:00:01\r\u001b[K     |██████████████████████████▏     | 1.5 MB 7.6 MB/s eta 0:00:01\r\u001b[K     |██████████████████████████▍     | 1.5 MB 7.6 MB/s eta 0:00:01\r\u001b[K     |██████████████████████████▋     | 1.5 MB 7.6 MB/s eta 0:00:01\r\u001b[K     |██████████████████████████▊     | 1.5 MB 7.6 MB/s eta 0:00:01\r\u001b[K     |███████████████████████████     | 1.5 MB 7.6 MB/s eta 0:00:01\r\u001b[K     |███████████████████████████     | 1.6 MB 7.6 MB/s eta 0:00:01\r\u001b[K     |███████████████████████████▎    | 1.6 MB 7.6 MB/s eta 0:00:01\r\u001b[K     |███████████████████████████▌    | 1.6 MB 7.6 MB/s eta 0:00:01\r\u001b[K     |███████████████████████████▋    | 1.6 MB 7.6 MB/s eta 0:00:01\r\u001b[K     |███████████████████████████▉    | 1.6 MB 7.6 MB/s eta 0:00:01\r\u001b[K     |████████████████████████████    | 1.6 MB 7.6 MB/s eta 0:00:01\r\u001b[K     |████████████████████████████▏   | 1.6 MB 7.6 MB/s eta 0:00:01\r\u001b[K     |████████████████████████████▍   | 1.6 MB 7.6 MB/s eta 0:00:01\r\u001b[K     |████████████████████████████▌   | 1.6 MB 7.6 MB/s eta 0:00:01\r\u001b[K     |████████████████████████████▊   | 1.6 MB 7.6 MB/s eta 0:00:01\r\u001b[K     |█████████████████████████████   | 1.7 MB 7.6 MB/s eta 0:00:01\r\u001b[K     |█████████████████████████████   | 1.7 MB 7.6 MB/s eta 0:00:01\r\u001b[K     |█████████████████████████████▎  | 1.7 MB 7.6 MB/s eta 0:00:01\r\u001b[K     |█████████████████████████████▍  | 1.7 MB 7.6 MB/s eta 0:00:01\r\u001b[K     |█████████████████████████████▋  | 1.7 MB 7.6 MB/s eta 0:00:01\r\u001b[K     |█████████████████████████████▉  | 1.7 MB 7.6 MB/s eta 0:00:01\r\u001b[K     |██████████████████████████████  | 1.7 MB 7.6 MB/s eta 0:00:01\r\u001b[K     |██████████████████████████████▏ | 1.7 MB 7.6 MB/s eta 0:00:01\r\u001b[K     |██████████████████████████████▎ | 1.7 MB 7.6 MB/s eta 0:00:01\r\u001b[K     |██████████████████████████████▌ | 1.8 MB 7.6 MB/s eta 0:00:01\r\u001b[K     |██████████████████████████████▊ | 1.8 MB 7.6 MB/s eta 0:00:01\r\u001b[K     |██████████████████████████████▉ | 1.8 MB 7.6 MB/s eta 0:00:01\r\u001b[K     |███████████████████████████████ | 1.8 MB 7.6 MB/s eta 0:00:01\r\u001b[K     |███████████████████████████████▏| 1.8 MB 7.6 MB/s eta 0:00:01\r\u001b[K     |███████████████████████████████▍| 1.8 MB 7.6 MB/s eta 0:00:01\r\u001b[K     |███████████████████████████████▋| 1.8 MB 7.6 MB/s eta 0:00:01\r\u001b[K     |███████████████████████████████▊| 1.8 MB 7.6 MB/s eta 0:00:01\r\u001b[K     |████████████████████████████████| 1.8 MB 7.6 MB/s eta 0:00:01\r\u001b[K     |████████████████████████████████| 1.8 MB 7.6 MB/s \n",
            "\u001b[?25hRequirement already satisfied: google-cloud-bigquery<3.0.0dev,>=1.15.0 in /usr/local/lib/python3.7/dist-packages (from google-cloud-aiplatform) (1.21.0)\n",
            "Requirement already satisfied: google-api-core[grpc]!=2.0.*,!=2.1.*,!=2.2.*,!=2.3.0,<3.0.0dev,>=1.31.5 in /usr/local/lib/python3.7/dist-packages (from google-cloud-aiplatform) (1.31.5)\n",
            "Collecting google-cloud-storage<3.0.0dev,>=1.32.0\n",
            "  Downloading google_cloud_storage-2.3.0-py2.py3-none-any.whl (107 kB)\n",
            "\u001b[K     |████████████████████████████████| 107 kB 63.4 MB/s \n",
            "\u001b[?25hRequirement already satisfied: packaging>=14.3 in /usr/local/lib/python3.7/dist-packages (from google-cloud-aiplatform) (21.3)\n",
            "Collecting google-cloud-resource-manager<3.0.0dev,>=1.3.3\n",
            "  Downloading google_cloud_resource_manager-1.4.1-py2.py3-none-any.whl (402 kB)\n",
            "\u001b[K     |████████████████████████████████| 402 kB 64.6 MB/s \n",
            "\u001b[?25hRequirement already satisfied: proto-plus>=1.15.0 in /usr/local/lib/python3.7/dist-packages (from google-cloud-aiplatform) (1.20.3)\n",
            "Requirement already satisfied: google-auth<2.0dev,>=1.25.0 in /usr/local/lib/python3.7/dist-packages (from google-api-core[grpc]!=2.0.*,!=2.1.*,!=2.2.*,!=2.3.0,<3.0.0dev,>=1.31.5->google-cloud-aiplatform) (1.35.0)\n",
            "Requirement already satisfied: pytz in /usr/local/lib/python3.7/dist-packages (from google-api-core[grpc]!=2.0.*,!=2.1.*,!=2.2.*,!=2.3.0,<3.0.0dev,>=1.31.5->google-cloud-aiplatform) (2022.1)\n",
            "Requirement already satisfied: setuptools>=40.3.0 in /usr/local/lib/python3.7/dist-packages (from google-api-core[grpc]!=2.0.*,!=2.1.*,!=2.2.*,!=2.3.0,<3.0.0dev,>=1.31.5->google-cloud-aiplatform) (57.4.0)\n",
            "Requirement already satisfied: requests<3.0.0dev,>=2.18.0 in /usr/local/lib/python3.7/dist-packages (from google-api-core[grpc]!=2.0.*,!=2.1.*,!=2.2.*,!=2.3.0,<3.0.0dev,>=1.31.5->google-cloud-aiplatform) (2.23.0)\n",
            "Requirement already satisfied: protobuf>=3.12.0 in /usr/local/lib/python3.7/dist-packages (from google-api-core[grpc]!=2.0.*,!=2.1.*,!=2.2.*,!=2.3.0,<3.0.0dev,>=1.31.5->google-cloud-aiplatform) (3.20.1)\n",
            "Requirement already satisfied: six>=1.13.0 in /usr/local/lib/python3.7/dist-packages (from google-api-core[grpc]!=2.0.*,!=2.1.*,!=2.2.*,!=2.3.0,<3.0.0dev,>=1.31.5->google-cloud-aiplatform) (1.15.0)\n",
            "Requirement already satisfied: googleapis-common-protos<2.0dev,>=1.6.0 in /usr/local/lib/python3.7/dist-packages (from google-api-core[grpc]!=2.0.*,!=2.1.*,!=2.2.*,!=2.3.0,<3.0.0dev,>=1.31.5->google-cloud-aiplatform) (1.56.1)\n",
            "Requirement already satisfied: grpcio<2.0dev,>=1.29.0 in /usr/local/lib/python3.7/dist-packages (from google-api-core[grpc]!=2.0.*,!=2.1.*,!=2.2.*,!=2.3.0,<3.0.0dev,>=1.31.5->google-cloud-aiplatform) (1.46.1)\n",
            "Requirement already satisfied: rsa<5,>=3.1.4 in /usr/local/lib/python3.7/dist-packages (from google-auth<2.0dev,>=1.25.0->google-api-core[grpc]!=2.0.*,!=2.1.*,!=2.2.*,!=2.3.0,<3.0.0dev,>=1.31.5->google-cloud-aiplatform) (4.8)\n",
            "Requirement already satisfied: pyasn1-modules>=0.2.1 in /usr/local/lib/python3.7/dist-packages (from google-auth<2.0dev,>=1.25.0->google-api-core[grpc]!=2.0.*,!=2.1.*,!=2.2.*,!=2.3.0,<3.0.0dev,>=1.31.5->google-cloud-aiplatform) (0.2.8)\n",
            "Requirement already satisfied: cachetools<5.0,>=2.0.0 in /usr/local/lib/python3.7/dist-packages (from google-auth<2.0dev,>=1.25.0->google-api-core[grpc]!=2.0.*,!=2.1.*,!=2.2.*,!=2.3.0,<3.0.0dev,>=1.31.5->google-cloud-aiplatform) (4.2.4)\n",
            "Requirement already satisfied: google-resumable-media!=0.4.0,<0.5.0dev,>=0.3.1 in /usr/local/lib/python3.7/dist-packages (from google-cloud-bigquery<3.0.0dev,>=1.15.0->google-cloud-aiplatform) (0.4.1)\n",
            "Requirement already satisfied: google-cloud-core<2.0dev,>=1.0.3 in /usr/local/lib/python3.7/dist-packages (from google-cloud-bigquery<3.0.0dev,>=1.15.0->google-cloud-aiplatform) (1.0.3)\n",
            "Collecting grpc-google-iam-v1<0.13dev,>=0.12.3\n",
            "  Downloading grpc_google_iam_v1-0.12.4-py2.py3-none-any.whl (26 kB)\n",
            "Collecting google-cloud-storage<3.0.0dev,>=1.32.0\n",
            "  Downloading google_cloud_storage-2.2.1-py2.py3-none-any.whl (107 kB)\n",
            "\u001b[K     |████████████████████████████████| 107 kB 52.7 MB/s \n",
            "\u001b[?25hCollecting google-cloud-core<2.0dev,>=1.0.3\n",
            "  Downloading google_cloud_core-1.7.2-py2.py3-none-any.whl (28 kB)\n",
            "Collecting google-cloud-storage<3.0.0dev,>=1.32.0\n",
            "  Downloading google_cloud_storage-2.2.0-py2.py3-none-any.whl (107 kB)\n",
            "\u001b[K     |████████████████████████████████| 107 kB 58.9 MB/s \n",
            "\u001b[?25h  Downloading google_cloud_storage-2.1.0-py2.py3-none-any.whl (106 kB)\n",
            "\u001b[K     |████████████████████████████████| 106 kB 52.9 MB/s \n",
            "\u001b[?25h  Downloading google_cloud_storage-2.0.0-py2.py3-none-any.whl (106 kB)\n",
            "\u001b[K     |████████████████████████████████| 106 kB 57.9 MB/s \n",
            "\u001b[?25h  Downloading google_cloud_storage-1.44.0-py2.py3-none-any.whl (106 kB)\n",
            "\u001b[K     |████████████████████████████████| 106 kB 59.1 MB/s \n",
            "\u001b[?25h  Downloading google_cloud_storage-1.43.0-py2.py3-none-any.whl (106 kB)\n",
            "\u001b[K     |████████████████████████████████| 106 kB 58.5 MB/s \n",
            "\u001b[?25h  Downloading google_cloud_storage-1.42.3-py2.py3-none-any.whl (105 kB)\n",
            "\u001b[K     |████████████████████████████████| 105 kB 59.2 MB/s \n",
            "\u001b[?25h  Downloading google_cloud_storage-1.42.2-py2.py3-none-any.whl (105 kB)\n",
            "\u001b[K     |████████████████████████████████| 105 kB 69.0 MB/s \n",
            "\u001b[?25h  Downloading google_cloud_storage-1.42.1-py2.py3-none-any.whl (105 kB)\n",
            "\u001b[K     |████████████████████████████████| 105 kB 62.6 MB/s \n",
            "\u001b[?25h  Downloading google_cloud_storage-1.42.0-py2.py3-none-any.whl (105 kB)\n",
            "\u001b[K     |████████████████████████████████| 105 kB 50.3 MB/s \n",
            "\u001b[?25h  Downloading google_cloud_storage-1.41.1-py2.py3-none-any.whl (105 kB)\n",
            "\u001b[K     |████████████████████████████████| 105 kB 57.9 MB/s \n",
            "\u001b[?25h  Downloading google_cloud_storage-1.41.0-py2.py3-none-any.whl (104 kB)\n",
            "\u001b[K     |████████████████████████████████| 104 kB 57.6 MB/s \n",
            "\u001b[?25h  Downloading google_cloud_storage-1.40.0-py2.py3-none-any.whl (104 kB)\n",
            "\u001b[K     |████████████████████████████████| 104 kB 60.7 MB/s \n",
            "\u001b[?25h  Downloading google_cloud_storage-1.39.0-py2.py3-none-any.whl (103 kB)\n",
            "\u001b[K     |████████████████████████████████| 103 kB 60.2 MB/s \n",
            "\u001b[?25h  Downloading google_cloud_storage-1.38.0-py2.py3-none-any.whl (103 kB)\n",
            "\u001b[K     |████████████████████████████████| 103 kB 57.5 MB/s \n",
            "\u001b[?25h  Downloading google_cloud_storage-1.37.1-py2.py3-none-any.whl (103 kB)\n",
            "\u001b[K     |████████████████████████████████| 103 kB 57.0 MB/s \n",
            "\u001b[?25h  Downloading google_cloud_storage-1.37.0-py2.py3-none-any.whl (103 kB)\n",
            "\u001b[K     |████████████████████████████████| 103 kB 60.9 MB/s \n",
            "\u001b[?25h  Downloading google_cloud_storage-1.36.2-py2.py3-none-any.whl (97 kB)\n",
            "\u001b[K     |████████████████████████████████| 97 kB 7.0 MB/s \n",
            "\u001b[?25h  Downloading google_cloud_storage-1.36.1-py2.py3-none-any.whl (97 kB)\n",
            "\u001b[K     |████████████████████████████████| 97 kB 6.4 MB/s \n",
            "\u001b[?25h  Downloading google_cloud_storage-1.36.0-py2.py3-none-any.whl (97 kB)\n",
            "\u001b[K     |████████████████████████████████| 97 kB 6.9 MB/s \n",
            "\u001b[?25h  Downloading google_cloud_storage-1.35.1-py2.py3-none-any.whl (96 kB)\n",
            "\u001b[K     |████████████████████████████████| 96 kB 5.8 MB/s \n",
            "\u001b[?25h  Downloading google_cloud_storage-1.35.0-py2.py3-none-any.whl (96 kB)\n",
            "\u001b[K     |████████████████████████████████| 96 kB 5.2 MB/s \n",
            "\u001b[?25h  Downloading google_cloud_storage-1.34.0-py2.py3-none-any.whl (96 kB)\n",
            "\u001b[K     |████████████████████████████████| 96 kB 5.7 MB/s \n",
            "\u001b[?25h  Downloading google_cloud_storage-1.33.0-py2.py3-none-any.whl (92 kB)\n",
            "\u001b[K     |████████████████████████████████| 92 kB 11.8 MB/s \n",
            "\u001b[?25h  Downloading google_cloud_storage-1.32.0-py2.py3-none-any.whl (92 kB)\n",
            "\u001b[K     |████████████████████████████████| 92 kB 10.9 MB/s \n",
            "\u001b[?25hINFO: pip is looking at multiple versions of google-cloud-resource-manager to determine which version is compatible with other requirements. This could take a while.\n",
            "Collecting google-cloud-resource-manager<3.0.0dev,>=1.3.3\n",
            "  Downloading google_cloud_resource_manager-1.4.0-py2.py3-none-any.whl (402 kB)\n",
            "\u001b[K     |████████████████████████████████| 402 kB 58.4 MB/s \n",
            "\u001b[?25h  Downloading google_cloud_resource_manager-1.3.3-py2.py3-none-any.whl (286 kB)\n",
            "\u001b[K     |████████████████████████████████| 286 kB 56.1 MB/s \n",
            "\u001b[?25hINFO: pip is looking at multiple versions of google-cloud-core to determine which version is compatible with other requirements. This could take a while.\n",
            "Collecting google-cloud-core<2.0dev,>=1.0.3\n",
            "  Downloading google_cloud_core-1.7.1-py2.py3-none-any.whl (28 kB)\n",
            "INFO: pip is looking at multiple versions of google-cloud-resource-manager to determine which version is compatible with other requirements. This could take a while.\n",
            "  Downloading google_cloud_core-1.7.0-py2.py3-none-any.whl (28 kB)\n",
            "  Downloading google_cloud_core-1.6.0-py2.py3-none-any.whl (28 kB)\n",
            "INFO: This is taking longer than usual. You might need to provide the dependency resolver with stricter constraints to reduce runtime. If you want to abort this run, you can press Ctrl + C to do so. To improve how pip performs, tell us what happened here: https://pip.pypa.io/surveys/backtracking\n",
            "  Downloading google_cloud_core-1.5.0-py2.py3-none-any.whl (27 kB)\n",
            "  Downloading google_cloud_core-1.4.4-py2.py3-none-any.whl (27 kB)\n",
            "  Downloading google_cloud_core-1.4.3-py2.py3-none-any.whl (27 kB)\n",
            "INFO: pip is looking at multiple versions of google-cloud-core to determine which version is compatible with other requirements. This could take a while.\n",
            "  Downloading google_cloud_core-1.4.2-py2.py3-none-any.whl (26 kB)\n",
            "  Downloading google_cloud_core-1.4.1-py2.py3-none-any.whl (26 kB)\n",
            "  Downloading google_cloud_core-1.4.0-py2.py3-none-any.whl (26 kB)\n",
            "  Downloading google_cloud_core-1.3.0-py2.py3-none-any.whl (26 kB)\n",
            "  Downloading google_cloud_core-1.2.0-py2.py3-none-any.whl (26 kB)\n",
            "INFO: This is taking longer than usual. You might need to provide the dependency resolver with stricter constraints to reduce runtime. If you want to abort this run, you can press Ctrl + C to do so. To improve how pip performs, tell us what happened here: https://pip.pypa.io/surveys/backtracking\n",
            "  Downloading google_cloud_core-1.1.0-py2.py3-none-any.whl (26 kB)\n",
            "  Downloading google_cloud_core-1.0.3-py2.py3-none-any.whl (26 kB)\n",
            "INFO: pip is looking at multiple versions of google-cloud-bigquery to determine which version is compatible with other requirements. This could take a while.\n",
            "Collecting google-cloud-bigquery<3.0.0dev,>=1.15.0\n",
            "  Downloading google_cloud_bigquery-2.34.3-py2.py3-none-any.whl (206 kB)\n",
            "\u001b[K     |████████████████████████████████| 206 kB 67.6 MB/s \n",
            "\u001b[?25hCollecting google-resumable-media<3.0dev,>=0.6.0\n",
            "  Downloading google_resumable_media-2.3.2-py2.py3-none-any.whl (76 kB)\n",
            "\u001b[K     |████████████████████████████████| 76 kB 5.1 MB/s \n",
            "\u001b[?25hCollecting google-cloud-core<3.0.0dev,>=1.4.1\n",
            "  Downloading google_cloud_core-2.3.0-py2.py3-none-any.whl (29 kB)\n",
            "Requirement already satisfied: python-dateutil<3.0dev,>=2.7.2 in /usr/local/lib/python3.7/dist-packages (from google-cloud-bigquery<3.0.0dev,>=1.15.0->google-cloud-aiplatform) (2.8.2)\n",
            "Collecting google-crc32c<2.0dev,>=1.0\n",
            "  Downloading google_crc32c-1.3.0-cp37-cp37m-manylinux_2_12_x86_64.manylinux2010_x86_64.whl (38 kB)\n",
            "Requirement already satisfied: pyparsing!=3.0.5,>=2.0.2 in /usr/local/lib/python3.7/dist-packages (from packaging>=14.3->google-cloud-aiplatform) (3.0.9)\n",
            "Requirement already satisfied: pyasn1<0.5.0,>=0.4.6 in /usr/local/lib/python3.7/dist-packages (from pyasn1-modules>=0.2.1->google-auth<2.0dev,>=1.25.0->google-api-core[grpc]!=2.0.*,!=2.1.*,!=2.2.*,!=2.3.0,<3.0.0dev,>=1.31.5->google-cloud-aiplatform) (0.4.8)\n",
            "Requirement already satisfied: urllib3!=1.25.0,!=1.25.1,<1.26,>=1.21.1 in /usr/local/lib/python3.7/dist-packages (from requests<3.0.0dev,>=2.18.0->google-api-core[grpc]!=2.0.*,!=2.1.*,!=2.2.*,!=2.3.0,<3.0.0dev,>=1.31.5->google-cloud-aiplatform) (1.24.3)\n",
            "Requirement already satisfied: idna<3,>=2.5 in /usr/local/lib/python3.7/dist-packages (from requests<3.0.0dev,>=2.18.0->google-api-core[grpc]!=2.0.*,!=2.1.*,!=2.2.*,!=2.3.0,<3.0.0dev,>=1.31.5->google-cloud-aiplatform) (2.10)\n",
            "Requirement already satisfied: chardet<4,>=3.0.2 in /usr/local/lib/python3.7/dist-packages (from requests<3.0.0dev,>=2.18.0->google-api-core[grpc]!=2.0.*,!=2.1.*,!=2.2.*,!=2.3.0,<3.0.0dev,>=1.31.5->google-cloud-aiplatform) (3.0.4)\n",
            "Requirement already satisfied: certifi>=2017.4.17 in /usr/local/lib/python3.7/dist-packages (from requests<3.0.0dev,>=2.18.0->google-api-core[grpc]!=2.0.*,!=2.1.*,!=2.2.*,!=2.3.0,<3.0.0dev,>=1.31.5->google-cloud-aiplatform) (2021.10.8)\n",
            "Installing collected packages: google-crc32c, grpc-google-iam-v1, google-resumable-media, google-cloud-core, google-cloud-storage, google-cloud-resource-manager, google-cloud-bigquery, google-cloud-aiplatform\n",
            "  Attempting uninstall: google-resumable-media\n",
            "    Found existing installation: google-resumable-media 0.4.1\n",
            "    Uninstalling google-resumable-media-0.4.1:\n",
            "      Successfully uninstalled google-resumable-media-0.4.1\n",
            "  Attempting uninstall: google-cloud-core\n",
            "    Found existing installation: google-cloud-core 1.0.3\n",
            "    Uninstalling google-cloud-core-1.0.3:\n",
            "      Successfully uninstalled google-cloud-core-1.0.3\n",
            "  Attempting uninstall: google-cloud-storage\n",
            "    Found existing installation: google-cloud-storage 1.18.1\n",
            "    Uninstalling google-cloud-storage-1.18.1:\n",
            "      Successfully uninstalled google-cloud-storage-1.18.1\n",
            "  Attempting uninstall: google-cloud-bigquery\n",
            "    Found existing installation: google-cloud-bigquery 1.21.0\n",
            "    Uninstalling google-cloud-bigquery-1.21.0:\n",
            "      Successfully uninstalled google-cloud-bigquery-1.21.0\n",
            "\u001b[31mERROR: pip's dependency resolver does not currently take into account all the packages that are installed. This behaviour is the source of the following dependency conflicts.\n",
            "pandas-gbq 0.13.3 requires google-cloud-bigquery[bqstorage,pandas]<2.0.0dev,>=1.11.1, but you have google-cloud-bigquery 2.34.3 which is incompatible.\n",
            "google-cloud-translate 1.5.0 requires google-cloud-core<2.0dev,>=1.0.0, but you have google-cloud-core 2.3.0 which is incompatible.\n",
            "google-cloud-firestore 1.7.0 requires google-cloud-core<2.0dev,>=1.0.3, but you have google-cloud-core 2.3.0 which is incompatible.\n",
            "google-cloud-datastore 1.8.0 requires google-cloud-core<2.0dev,>=1.0.0, but you have google-cloud-core 2.3.0 which is incompatible.\u001b[0m\n",
            "Successfully installed google-cloud-aiplatform-1.13.0 google-cloud-bigquery-2.34.3 google-cloud-core-2.3.0 google-cloud-resource-manager-1.4.1 google-cloud-storage-2.3.0 google-crc32c-1.3.0 google-resumable-media-2.3.2 grpc-google-iam-v1-0.12.4\n"
          ]
        },
        {
          "output_type": "display_data",
          "data": {
            "application/vnd.colab-display-data+json": {
              "pip_warning": {
                "packages": [
                  "google"
                ]
              }
            }
          },
          "metadata": {}
        }
      ]
    },
    {
      "cell_type": "code",
      "execution_count": 9,
      "metadata": {
        "id": "kbSqJzrlJPdN"
      },
      "outputs": [],
      "source": [
        "#API AI VERTEX\n",
        "\n",
        "import os\n",
        "from flask import Flask\n",
        "from flask import render_template\n",
        "import sys\n",
        "\n",
        "# [START aiplatform_predict_text_classification_single_label_sample]\n",
        "from google.cloud import aiplatform\n",
        "from google.cloud.aiplatform.gapic.schema import predict\n",
        "from google.protobuf import json_format\n",
        "from google.protobuf.struct_pb2 import Value\n",
        "\n",
        "import os\n",
        "\n",
        "os.environ[\"GOOGLE_APPLICATION_CREDENTIALS\"] = \"gdrive/My Drive/Colab Notebooks/Big-Scale Analytics/project 2/elevated-axon-344416-a445282b6a91.json\"\n",
        "\n",
        "def predict_text_classification_single_label_sample(\n",
        "    project: str,\n",
        "    endpoint_id: str,\n",
        "    content: str,\n",
        "    location: str = \"us-central1\",\n",
        "    api_endpoint: str = \"us-central1-aiplatform.googleapis.com\",\n",
        "):\n",
        "    # The AI Platform services require regional API endpoints.\n",
        "    client_options = {\"api_endpoint\": api_endpoint}\n",
        "    # Initialize client that will be used to create and send requests.\n",
        "    # This client only needs to be created once, and can be reused for multiple requests.\n",
        "    client = aiplatform.gapic.PredictionServiceClient(client_options=client_options)\n",
        "    instance = predict.instance.TextClassificationPredictionInstance(\n",
        "        content=content,\n",
        "    ).to_value()\n",
        "    instances = [instance]\n",
        "    parameters_dict = {}\n",
        "    parameters = json_format.ParseDict(parameters_dict, Value())\n",
        "    endpoint = client.endpoint_path(\n",
        "        project=project, location=location, endpoint=endpoint_id\n",
        "    )\n",
        "    response = client.predict(\n",
        "        endpoint=endpoint, instances=instances, parameters=parameters\n",
        "    )\n",
        "    print(\"response\")\n",
        "    print(\" deployed_model_id:\", response.deployed_model_id)\n",
        "\n",
        "    predictions = response.predictions\n",
        "    for prediction in predictions:\n",
        "        print(\" prediction:\", dict(prediction))"
      ]
    },
    {
      "cell_type": "code",
      "source": [
        "predict_text_classification_single_label_sample(\n",
        "    project=\"543916258607\",\n",
        "    endpoint_id=\"7328456105359572992\",\n",
        "    location=\"us-central1\",\n",
        "    content=\"wesh wesh\"\n",
        ")"
      ],
      "metadata": {
        "colab": {
          "base_uri": "https://localhost:8080/"
        },
        "id": "MnAGq48aTAeD",
        "outputId": "d0c00615-8ebb-433f-f07e-5e8a9da2ff73"
      },
      "execution_count": 10,
      "outputs": [
        {
          "output_type": "stream",
          "name": "stdout",
          "text": [
            "response\n",
            " deployed_model_id: 4833620241470717952\n",
            " prediction: {'displayNames': ['A1', 'C2', 'C1', 'A2', 'B1', 'B2'], 'confidences': [0.15856899321079254, 0.07646991312503815, 0.26320916414260864, 0.025126954540610313, 0.002025004243478179, 0.4745999872684479], 'ids': ['2732572817802395648', '8497180340836630528', '6191337331622936576', '1579651313195548672', '3885494322409242624', '7344258836229783552']}\n"
          ]
        }
      ]
    }
  ],
  "metadata": {
    "colab": {
      "collapsed_sections": [],
      "name": "API_project_II.ipynb",
      "provenance": []
    },
    "kernelspec": {
      "display_name": "Python 3",
      "name": "python3"
    },
    "language_info": {
      "name": "python"
    }
  },
  "nbformat": 4,
  "nbformat_minor": 0
}
